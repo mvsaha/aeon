{
 "cells": [
  {
   "cell_type": "code",
   "execution_count": 379,
   "metadata": {
    "collapsed": false
   },
   "outputs": [
    {
     "name": "stdout",
     "output_type": "stream",
     "text": [
      "DateRange(2012-12-05 00:01:59 to 2013-05-03 00:00:00)\n"
     ]
    }
   ],
   "source": [
    "import sys\n",
    "sys.path.append('/Users/Michael_Saha/Repositories/')\n",
    "import os\n",
    "import shutil\n",
    "import datetime as dt\n",
    "import eon\n",
    "\n",
    "pyc = 'C:/Users/Michael_Saha/Repositories/eon/__pycache__'\n",
    "if os.path.exists(pyc):\n",
    "    shutil.rmtree(pyc)\n",
    "\n",
    "from imp import reload\n",
    "reload(eon)\n",
    "\n",
    "d1 = dt.datetime(2012,12,5,0,1,59)\n",
    "d2 = dt.datetime(2013,5,3)\n",
    "dr = eon.DateRange(d1,d2)\n",
    "print(dr)"
   ]
  },
  {
   "cell_type": "code",
   "execution_count": 396,
   "metadata": {
    "collapsed": false
   },
   "outputs": [
    {
     "data": {
      "text/plain": [
       "[datetime.datetime(2013, 4, 6, 0, 0),\n",
       " datetime.datetime(2013, 4, 11, 0, 0),\n",
       " datetime.datetime(2013, 4, 16, 0, 0),\n",
       " datetime.datetime(2013, 4, 21, 0, 0),\n",
       " datetime.datetime(2013, 4, 26, 0, 0),\n",
       " datetime.datetime(2013, 5, 1, 0, 0)]"
      ]
     },
     "execution_count": 396,
     "metadata": {},
     "output_type": "execute_result"
    }
   ],
   "source": [
    "[d for d in dr.startat(dt.datetime(2013,4,2)).pentads(snap=True)]"
   ]
  },
  {
   "cell_type": "code",
   "execution_count": 398,
   "metadata": {
    "collapsed": false,
    "scrolled": false
   },
   "outputs": [
    {
     "data": {
      "text/plain": [
       "[datetime.datetime(2012, 12, 6, 0, 0),\n",
       " datetime.datetime(2012, 12, 11, 0, 0),\n",
       " datetime.datetime(2012, 12, 16, 0, 0),\n",
       " datetime.datetime(2012, 12, 21, 0, 0),\n",
       " datetime.datetime(2012, 12, 26, 0, 0),\n",
       " datetime.datetime(2013, 1, 1, 0, 0),\n",
       " datetime.datetime(2013, 1, 6, 0, 0),\n",
       " datetime.datetime(2013, 1, 11, 0, 0),\n",
       " datetime.datetime(2013, 1, 16, 0, 0),\n",
       " datetime.datetime(2013, 1, 21, 0, 0),\n",
       " datetime.datetime(2013, 1, 26, 0, 0),\n",
       " datetime.datetime(2013, 1, 31, 0, 0),\n",
       " datetime.datetime(2013, 2, 5, 0, 0),\n",
       " datetime.datetime(2013, 2, 10, 0, 0),\n",
       " datetime.datetime(2013, 2, 15, 0, 0),\n",
       " datetime.datetime(2013, 2, 20, 0, 0),\n",
       " datetime.datetime(2013, 2, 25, 0, 0),\n",
       " datetime.datetime(2013, 3, 2, 0, 0),\n",
       " datetime.datetime(2013, 3, 7, 0, 0),\n",
       " datetime.datetime(2013, 3, 12, 0, 0),\n",
       " datetime.datetime(2013, 3, 17, 0, 0),\n",
       " datetime.datetime(2013, 3, 22, 0, 0),\n",
       " datetime.datetime(2013, 3, 27, 0, 0),\n",
       " datetime.datetime(2013, 4, 1, 0, 0),\n",
       " datetime.datetime(2013, 4, 6, 0, 0),\n",
       " datetime.datetime(2013, 4, 11, 0, 0),\n",
       " datetime.datetime(2013, 4, 16, 0, 0),\n",
       " datetime.datetime(2013, 4, 21, 0, 0),\n",
       " datetime.datetime(2013, 4, 26, 0, 0),\n",
       " datetime.datetime(2013, 5, 1, 0, 0)]"
      ]
     },
     "execution_count": 398,
     "metadata": {},
     "output_type": "execute_result"
    }
   ],
   "source": [
    "[d for d in dr.pentads(reverse=False,snap=True)]"
   ]
  },
  {
   "cell_type": "code",
   "execution_count": 9,
   "metadata": {
    "collapsed": false
   },
   "outputs": [
    {
     "data": {
      "text/plain": [
       "29"
      ]
     },
     "execution_count": 9,
     "metadata": {},
     "output_type": "execute_result"
    }
   ],
   "source": [
    "eon.date_to_pentad(dt.date(2012,5,20))"
   ]
  }
 ],
 "metadata": {
  "kernelspec": {
   "display_name": "Python 3",
   "language": "python",
   "name": "python3"
  },
  "language_info": {
   "codemirror_mode": {
    "name": "ipython",
    "version": 3
   },
   "file_extension": ".py",
   "mimetype": "text/x-python",
   "name": "python",
   "nbconvert_exporter": "python",
   "pygments_lexer": "ipython3",
   "version": "3.4.3"
  }
 },
 "nbformat": 4,
 "nbformat_minor": 0
}
