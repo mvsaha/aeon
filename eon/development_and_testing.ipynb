{
 "cells": [
  {
   "cell_type": "code",
   "execution_count": 115,
   "metadata": {
    "collapsed": false
   },
   "outputs": [
    {
     "data": {
      "text/plain": [
       "<module 'eon' from '/Users/Michael_Saha/Repositories\\\\eon\\\\__init__.py'>"
      ]
     },
     "execution_count": 115,
     "metadata": {},
     "output_type": "execute_result"
    }
   ],
   "source": [
    "import sys\n",
    "sys.path.append('/Users/Michael_Saha/Repositories/')\n",
    "import os\n",
    "import shutil\n",
    "import datetime as dt\n",
    "import eon\n",
    "\n",
    "pyc = 'C:/Users/Michael_Saha/Repositories/eon/__pycache__'\n",
    "if os.path.exists(pyc):\n",
    "    shutil.rmtree(pyc)\n",
    "\n",
    "from imp import reload\n",
    "reload(eon)"
   ]
  },
  {
   "cell_type": "code",
   "execution_count": 116,
   "metadata": {
    "collapsed": false,
    "scrolled": true
   },
   "outputs": [
    {
     "name": "stdout",
     "output_type": "stream",
     "text": [
      "DateRange(2012-01-01 03:00:00 to 2012-01-01 23:59:59.999999) 21:00:00\n",
      "DateRange(2012-01-02 00:00:00 to 2012-01-02 23:59:59.999999) 1 day, 0:00:00\n",
      "DateRange(2012-01-03 00:00:00 to 2012-01-03 23:59:59.999999) 1 day, 0:00:00\n",
      "DateRange(2012-01-04 00:00:00 to 2012-01-04 23:59:59.999999) 1 day, 0:00:00\n",
      "DateRange(2012-01-05 00:00:00 to 2012-01-05 23:59:59.999999) 1 day, 0:00:00\n",
      "DateRange(2012-01-06 00:00:00 to 2012-01-06 23:59:59.999999) 1 day, 0:00:00\n",
      "DateRange(2012-01-07 00:00:00 to 2012-01-07 23:59:59.999999) 1 day, 0:00:00\n",
      "DateRange(2012-01-08 00:00:00 to 2012-01-08 23:59:59.999999) 1 day, 0:00:00\n",
      "DateRange(2012-01-09 00:00:00 to 2012-01-09 23:59:59.999999) 1 day, 0:00:00\n",
      "DateRange(2012-01-10 00:00:00 to 2012-01-10 04:00:00) 4:00:00.000001\n"
     ]
    }
   ],
   "source": [
    "d1 = dt.datetime(2012,1,1,3)\n",
    "d2 = dt.datetime(2012,1,10,4)\n",
    "x = [y for y in eon.DateRange(d1,d2).rdays(snap=True,reverse=False,full=False)]\n",
    "\n",
    "for i in x:\n",
    "    print(i,i.span())"
   ]
  },
  {
   "cell_type": "code",
   "execution_count": 196,
   "metadata": {
    "collapsed": false
   },
   "outputs": [
    {
     "ename": "AttributeError",
     "evalue": "'module' object has no attribute 'Month'",
     "output_type": "error",
     "traceback": [
      "\u001b[1;31m---------------------------------------------------------------------------\u001b[0m",
      "\u001b[1;31mAttributeError\u001b[0m                            Traceback (most recent call last)",
      "\u001b[1;32m<ipython-input-196-476b3144229e>\u001b[0m in \u001b[0;36m<module>\u001b[1;34m()\u001b[0m\n\u001b[1;32m----> 1\u001b[1;33m \u001b[0meon\u001b[0m\u001b[1;33m.\u001b[0m\u001b[0mMonth\u001b[0m\u001b[1;33m(\u001b[0m\u001b[1;33m)\u001b[0m\u001b[1;33m\u001b[0m\u001b[0m\n\u001b[0m",
      "\u001b[1;31mAttributeError\u001b[0m: 'module' object has no attribute 'Month'"
     ]
    }
   ],
   "source": []
  },
  {
   "cell_type": "code",
   "execution_count": 197,
   "metadata": {
    "collapsed": false,
    "scrolled": true
   },
   "outputs": [
    {
     "name": "stdout",
     "output_type": "stream",
     "text": [
      "2012-01-01\n"
     ]
    }
   ],
   "source": [
    "dr = eon.DateRange(dt.date(2012,1,1),dt.date(2013,1,1))\n",
    "\n",
    "print(dr._cast(dt.datetime(2012,1,1)))\n",
    "\n",
    "#[d for d in dr.pentads()]"
   ]
  }
 ],
 "metadata": {
  "kernelspec": {
   "display_name": "Python 3",
   "language": "python",
   "name": "python3"
  },
  "language_info": {
   "codemirror_mode": {
    "name": "ipython",
    "version": 3
   },
   "file_extension": ".py",
   "mimetype": "text/x-python",
   "name": "python",
   "nbconvert_exporter": "python",
   "pygments_lexer": "ipython3",
   "version": "3.4.1"
  }
 },
 "nbformat": 4,
 "nbformat_minor": 0
}
